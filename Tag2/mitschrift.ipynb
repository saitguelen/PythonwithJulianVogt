{
 "cells": [
  {
   "cell_type": "markdown",
   "metadata": {},
   "source": [
    "# Tenärer Operator"
   ]
  },
  {
   "cell_type": "markdown",
   "metadata": {},
   "source": [
    "Der tenäre Operator kombiniert das `if`...`else` Konstrukt mit dem Zuweisungsoperator `=`.\n",
    "\n",
    "Er setzt den Wert einer Variable auf eine von zwei möglichen Werte, je nachdem ob eine Bedingung zutrifft.\n",
    "\n",
    "- Java: `i = Bedingung ? wertwennwahr : wertwennfalsch`\n",
    "- Python `i = wertwennwahr if Bedingung else wertwennfalsch`"
   ]
  },
  {
   "cell_type": "code",
   "execution_count": 2,
   "metadata": {},
   "outputs": [
    {
     "name": "stdout",
     "output_type": "stream",
     "text": [
      "Eingegebener Wert: -6\n",
      "Absoluter Wert 6\n"
     ]
    }
   ],
   "source": [
    "wert = int(input())\n",
    "print(\"Eingegebener Wert:\", wert)\n",
    "\n",
    "absoluter_wert = wert if wert >= 0 else -wert\n",
    "print(\"Absoluter Wert\", absoluter_wert)"
   ]
  },
  {
   "cell_type": "markdown",
   "metadata": {},
   "source": [
    "# Listen"
   ]
  },
  {
   "cell_type": "markdown",
   "metadata": {},
   "source": [
    "Listen speichern mehrere Werte. Die einzelnen Werte werden über den Index mit dem Arrayoperator `[...]` abgesprochen."
   ]
  },
  {
   "cell_type": "code",
   "execution_count": 5,
   "metadata": {},
   "outputs": [
    {
     "name": "stdout",
     "output_type": "stream",
     "text": [
      "['Hallo', 2] <class 'list'>\n",
      "Hallo <class 'str'>\n"
     ]
    }
   ],
   "source": [
    "werte = [\"Hallo\", 2]\n",
    "print(werte, type(werte))\n",
    "print(werte[0], type(werte[0]))"
   ]
  },
  {
   "cell_type": "markdown",
   "metadata": {},
   "source": [
    "Im gegensatz zu Strings sind Listen \"mutable\", also veränderbar."
   ]
  },
  {
   "cell_type": "code",
   "execution_count": 8,
   "metadata": {},
   "outputs": [
    {
     "name": "stdout",
     "output_type": "stream",
     "text": [
      "['Hallo', 4]\n"
     ]
    }
   ],
   "source": [
    "werte = [\"Hallo\", 2]\n",
    "werte[1] += 2\n",
    "print(werte)"
   ]
  },
  {
   "cell_type": "markdown",
   "metadata": {},
   "source": [
    "Eine Liste hat keine feste Länge. Über `append(wert)` oder `insert(index, wert)` können Werte angehangen/eingefügt werden."
   ]
  },
  {
   "cell_type": "code",
   "execution_count": 10,
   "metadata": {},
   "outputs": [
    {
     "name": "stdout",
     "output_type": "stream",
     "text": [
      "[1, 2, 3]\n",
      "[1, 42, 2, 3]\n"
     ]
    }
   ],
   "source": [
    "werte = [1, 2]\n",
    "\n",
    "werte.append(3)\n",
    "print(werte)\n",
    "\n",
    "werte.insert(1, 42)\n",
    "print(werte)"
   ]
  },
  {
   "cell_type": "markdown",
   "metadata": {},
   "source": [
    "Über `pop(index)` und `remove(wert)` können Werte wieder entnommen werden. Remove entnimmt nur den ersten Treffer. `clear` leert die gesamte Liste."
   ]
  },
  {
   "cell_type": "code",
   "execution_count": 12,
   "metadata": {},
   "outputs": [
    {
     "name": "stdout",
     "output_type": "stream",
     "text": [
      "1\n",
      "[2, 'abc', 3, 4, 'abc']\n",
      "[2, 3, 4, 'abc']\n"
     ]
    }
   ],
   "source": [
    "werte = [1, 2, \"abc\", 3, 4, \"abc\"]\n",
    "\n",
    "print(werte.pop(0))\n",
    "print(werte)\n",
    "\n",
    "werte.remove(\"abc\")\n",
    "print(werte)"
   ]
  },
  {
   "cell_type": "markdown",
   "metadata": {},
   "source": [
    "Die `sort()` Methode sortiert die Werte aufsteigend. Mit `reverse()` können die Werte umgekehrt werden."
   ]
  },
  {
   "cell_type": "code",
   "execution_count": 21,
   "metadata": {},
   "outputs": [
    {
     "name": "stdout",
     "output_type": "stream",
     "text": [
      "[False, 1, 5.1, 6, 8]\n",
      "[8, 6, 5.1, 1, False]\n"
     ]
    }
   ],
   "source": [
    "werte = [1, 8, 5.1, 6, False]\n",
    "\n",
    "werte.sort()\n",
    "print(werte)\n",
    "\n",
    "werte.reverse()\n",
    "print(werte)"
   ]
  },
  {
   "cell_type": "markdown",
   "metadata": {},
   "source": [
    "Durch die dynamische Typisierung ist es problemlos Möglich, eine Liste in einer anderen Liste zu verschachteln. Damit lässt sich \"Jagged 2D-Array\" (Array von Arrays) umsetzen. Die verschachtelnen Listen können unterschiedliche Längen haben."
   ]
  },
  {
   "cell_type": "code",
   "execution_count": 28,
   "metadata": {},
   "outputs": [
    {
     "name": "stdout",
     "output_type": "stream",
     "text": [
      "[[1, 2, 3], [4, 5, 6], [7, 8, 9, 10]]\n",
      "[4, 5, 6]\n",
      "6\n",
      "6\n"
     ]
    }
   ],
   "source": [
    "tabelle = [\n",
    "    [1, 2, 3],\n",
    "    [4, 5, 6],\n",
    "    [7, 8, 9, 10] # <- Unschön! Fehleranfällig.\n",
    "]\n",
    "\n",
    "print(tabelle)\n",
    "print(tabelle[1])\n",
    "print(tabelle[1][2])\n",
    "# Die 2D-Liste wird über den ersten Index zu einer 1D-Liste aufgelöst\n",
    "print((tabelle[1])[2])"
   ]
  },
  {
   "cell_type": "markdown",
   "metadata": {},
   "source": [
    "Das lässt sich beliebig weiter spinnen....\n",
    "\n",
    "Eine Liste mit Listen mit Listen mit Listen mit Integerwerten $\\approx$ 4D Array"
   ]
  },
  {
   "cell_type": "code",
   "execution_count": 31,
   "metadata": {},
   "outputs": [
    {
     "name": "stdout",
     "output_type": "stream",
     "text": [
      "42\n",
      "43\n"
     ]
    }
   ],
   "source": [
    "hochdimensionaler_tensor = [[[[42, 43]]]]\n",
    "\n",
    "print(hochdimensionaler_tensor[0][0][0][0])\n",
    "print(hochdimensionaler_tensor[0][0][0][1])"
   ]
  },
  {
   "cell_type": "markdown",
   "metadata": {},
   "source": [
    "Die Variablen speichern immer eine Referenz auf die Liste und nicht die Liste selbst."
   ]
  },
  {
   "cell_type": "code",
   "execution_count": 32,
   "metadata": {},
   "outputs": [
    {
     "name": "stdout",
     "output_type": "stream",
     "text": [
      "[1, 42, 3]\n"
     ]
    }
   ],
   "source": [
    "zahlen = [1, 2, 3]\n",
    "\n",
    "auchzahlen = zahlen\n",
    "auchzahlen[1] = 42\n",
    "\n",
    "print(zahlen)"
   ]
  },
  {
   "cell_type": "markdown",
   "metadata": {},
   "source": [
    "Um eine Kopie zu erzeugen, kann:\n",
    "- `list.copy()` oder\n",
    "- List Slicing verwendet werden.\n",
    "\n",
    "List Slicing funktioniert genau wie bei Strings!"
   ]
  },
  {
   "cell_type": "code",
   "execution_count": 33,
   "metadata": {},
   "outputs": [
    {
     "name": "stdout",
     "output_type": "stream",
     "text": [
      "[1, 2, 3]\n"
     ]
    }
   ],
   "source": [
    "zahlen = [1, 2, 3]\n",
    "\n",
    "kopie_1 = zahlen.copy()\n",
    "kopie_1[0] = 42\n",
    "\n",
    "kopie_2 = zahlen[:]\n",
    "kopie_2[0] = 42\n",
    "\n",
    "print(zahlen)"
   ]
  },
  {
   "cell_type": "markdown",
   "metadata": {},
   "source": [
    "# While"
   ]
  },
  {
   "cell_type": "markdown",
   "metadata": {},
   "source": [
    "Eine `while`-Schleife arbeitet ähnlich wie eine `if`-Anweisung. Sie führt den Code jedoch nicht aus, wenn (if) die Bedingung zutrifft, sondern solange (while) die Bedingung zutrifft."
   ]
  },
  {
   "cell_type": "code",
   "execution_count": 34,
   "metadata": {},
   "outputs": [
    {
     "name": "stdout",
     "output_type": "stream",
     "text": [
      "Willkommen beim Zahlenrater2000!\n",
      "Sie haben 10 eingeben.\n",
      "Sie haben 30 eingeben.\n",
      "Sie haben 42 eingeben.\n",
      "Bingo!\n"
     ]
    }
   ],
   "source": [
    "geheime_zahl = 42\n",
    "\n",
    "print(\"Willkommen beim Zahlenrater2000!\")\n",
    "gefunden = False\n",
    "\n",
    "while not gefunden:\n",
    "    geratene_zahl = int(input(\"Bitte Zahl eingeben:\"))\n",
    "    print(\"Sie haben\", geratene_zahl, \"eingeben.\")\n",
    "    gefunden = geratene_zahl == geheime_zahl\n",
    "\n",
    "print(\"Bingo!\")"
   ]
  },
  {
   "cell_type": "markdown",
   "metadata": {},
   "source": [
    "Exkurs: Variable auf Vergleich setzen geht?"
   ]
  },
  {
   "cell_type": "code",
   "execution_count": 38,
   "metadata": {},
   "outputs": [
    {
     "name": "stdout",
     "output_type": "stream",
     "text": [
      "True\n",
      "True\n",
      "True\n",
      "<class 'bool'>\n"
     ]
    }
   ],
   "source": [
    "zahl = 42\n",
    "\n",
    "print(zahl >= 10)\n",
    "print(zahl == 42)\n",
    "print((10 + 20) == 30)\n",
    "print(type(zahl == 10))"
   ]
  },
  {
   "cell_type": "markdown",
   "metadata": {},
   "source": [
    "Ein `continue` überspringt den noch folgenden Code innerhalb der aktuellen Schleifeniteration (Schleifendurchlauf) und springt zurück zu der Bedingung.\n",
    "\n",
    "Ein `break` unterbricht die gesamte Schleife und springt ans Ende nach der Schleife."
   ]
  },
  {
   "cell_type": "code",
   "execution_count": 39,
   "metadata": {},
   "outputs": [
    {
     "name": "stdout",
     "output_type": "stream",
     "text": [
      "Willkommen beim Zahlenrater2001!\n",
      "Sie haben 10 eingeben.\n",
      "Sie haben 20 eingeben.\n",
      "Sie haben 42 eingeben.\n",
      "Bingo!\n"
     ]
    }
   ],
   "source": [
    "geheime_zahl = 42\n",
    "\n",
    "print(\"Willkommen beim Zahlenrater2001!\")\n",
    "\n",
    "while True:\n",
    "    geratene_zahl = int(input(\"Bitte Zahl eingeben:\"))\n",
    "    print(\"Sie haben\", geratene_zahl, \"eingeben.\")\n",
    "    if geratene_zahl == geheime_zahl:\n",
    "        break\n",
    "\n",
    "print(\"Bingo!\")"
   ]
  },
  {
   "cell_type": "markdown",
   "metadata": {},
   "source": [
    "Mit einer `while`-Schleife kann eine Zählschleife realisiert werden. Damit die Anzahl der Werte nicht absolut gesetzt werden muss, kann die `len(iterable)` Funktion verwendet werden."
   ]
  },
  {
   "cell_type": "code",
   "execution_count": 40,
   "metadata": {},
   "outputs": [
    {
     "name": "stdout",
     "output_type": "stream",
     "text": [
      "6\n"
     ]
    }
   ],
   "source": [
    "zahlen = [1, 2, 3]\n",
    "summe = 0\n",
    "\n",
    "i = 0\n",
    "while i < len(zahlen):\n",
    "    summe += zahlen[i]\n",
    "    i += 1\n",
    "\n",
    "print(summe)"
   ]
  },
  {
   "cell_type": "markdown",
   "metadata": {},
   "source": [
    "# For"
   ]
  },
  {
   "cell_type": "markdown",
   "metadata": {},
   "source": [
    "Die for-Schleife in Python ist stets eine foreach-Schleife.\n",
    "\n",
    "- Bei der for-Schleife wird meist eine ganzzahlige Laufvariable hochgezählt\n",
    "- Bei der foreach-Schleife nimmt eine Laufvariable nacheinander die Werte eines \"Iterators\" an, es handelt sich dabei aber nur um eine Wertkopie!"
   ]
  },
  {
   "cell_type": "code",
   "execution_count": null,
   "metadata": {},
   "outputs": [
    {
     "name": "stdout",
     "output_type": "stream",
     "text": [
      "6\n",
      "[1, 2, 3]\n"
     ]
    }
   ],
   "source": [
    "zahlen = [1, 2, 3]\n",
    "summe = 0\n",
    "\n",
    "for zahl in zahlen:\n",
    "    summe += zahl # Lesen geht\n",
    "    zahl *= 2     # Überschreiben geht, ändert aber nur die Laufvariable (Wertkopie)\n",
    "\n",
    "print(summe)\n",
    "print(zahlen)"
   ]
  },
  {
   "cell_type": "markdown",
   "metadata": {},
   "source": [
    "Die `range`-Funktion gibt einen Iterator zurück, der nacheinander die Zahlen in einem Bereich annimmt.\n",
    "- `range(stop)`: Geht von 0 bis ausschließlich stop\n",
    "- `range(start, stop)`: Geht von einschließlich start bis ausschließlich stop\n",
    "- `range(start, stop, step)`: Wie zuvor, nur diesmal mit Schrittweite (vgl. String Splicing)\n",
    "\n",
    "Eine sehr häufige Kombination ist `range(len(iterable))`"
   ]
  },
  {
   "cell_type": "code",
   "execution_count": 44,
   "metadata": {},
   "outputs": [
    {
     "name": "stdout",
     "output_type": "stream",
     "text": [
      "[2, 4, 6]\n"
     ]
    }
   ],
   "source": [
    "zahlen = [1, 2, 3]\n",
    "\n",
    "for i in range(len(zahlen)):\n",
    "    zahlen[i] *= 2\n",
    "\n",
    "print(zahlen)"
   ]
  },
  {
   "cell_type": "markdown",
   "metadata": {},
   "source": [
    "# List Comprehension"
   ]
  },
  {
   "cell_type": "markdown",
   "metadata": {},
   "source": [
    "Eine Eigenart von Python sind \"List Comprehensions\". Eine Liste wird basierend auf einem Iterator dynamisch erzeugt.\n",
    "\n",
    "Die allgemeine Syntax ist:\n",
    "\n",
    "`[expression for item in iterable if condition == True]`"
   ]
  },
  {
   "cell_type": "code",
   "execution_count": 50,
   "metadata": {},
   "outputs": [
    {
     "name": "stdout",
     "output_type": "stream",
     "text": [
      "[0, 1, 2, 3, 4, 5, 6, 7]\n",
      "[1, 2, 3, 4, 5, 6, 7]\n",
      "[1, 3, 5, 7]\n"
     ]
    }
   ],
   "source": [
    "zahlen = [zahl for zahl in range(8)]\n",
    "print(zahlen)\n",
    "\n",
    "zahlen = [zahl for zahl in range(1, 8)]\n",
    "print(zahlen)\n",
    "\n",
    "zahlen = [zahl for zahl in range(1, 8, 2)]\n",
    "print(zahlen)"
   ]
  },
  {
   "cell_type": "code",
   "execution_count": 51,
   "metadata": {},
   "outputs": [
    {
     "name": "stdout",
     "output_type": "stream",
     "text": [
      "[4, 6, 10, 14, 18, 22, 26]\n"
     ]
    }
   ],
   "source": [
    "primzahlen = [2, 3, 5, 7, 9, 11, 13]\n",
    "\n",
    "doppelte_primzahlen = [primzahl * 2 for primzahl in primzahlen]\n",
    "print(doppelte_primzahlen)"
   ]
  },
  {
   "cell_type": "code",
   "execution_count": 52,
   "metadata": {},
   "outputs": [
    {
     "name": "stdout",
     "output_type": "stream",
     "text": [
      "[2, 8, 10]\n"
     ]
    }
   ],
   "source": [
    "zahlen = [1, 2, 5, 7, 8, 10]\n",
    "gerade_zahlen = [zahl for zahl in zahlen if zahl % 2 == 0]\n",
    "print(gerade_zahlen)"
   ]
  },
  {
   "cell_type": "markdown",
   "metadata": {},
   "source": [
    "Ich muss mal kurz angeben...\n",
    "\n",
    "volle List Comprehension + Tenary Operator:"
   ]
  },
  {
   "cell_type": "code",
   "execution_count": 53,
   "metadata": {},
   "outputs": [
    {
     "name": "stdout",
     "output_type": "stream",
     "text": [
      "[4, 2, 2, 4]\n"
     ]
    }
   ],
   "source": [
    "zahlen = [-2, -1, 0, 1, 2]\n",
    "absolute_verdoppelte_zahlen_ohne_0 = [(zahl if zahl >= 0 else -zahl) * 2 for zahl in zahlen if zahl != 0]\n",
    "print(absolute_verdoppelte_zahlen_ohne_0)"
   ]
  },
  {
   "cell_type": "markdown",
   "metadata": {},
   "source": [
    "Exkurs Primzahl"
   ]
  },
  {
   "cell_type": "code",
   "execution_count": 56,
   "metadata": {},
   "outputs": [
    {
     "name": "stdout",
     "output_type": "stream",
     "text": [
      "True\n"
     ]
    }
   ],
   "source": [
    "kandidat = 53281\n",
    "\n",
    "primzahl = True\n",
    "for testzahl in range(2, kandidat):\n",
    "    if kandidat % testzahl == 0:\n",
    "        primzahl = False\n",
    "\n",
    "print(primzahl)"
   ]
  }
 ],
 "metadata": {
  "kernelspec": {
   "display_name": "Python 3",
   "language": "python",
   "name": "python3"
  },
  "language_info": {
   "codemirror_mode": {
    "name": "ipython",
    "version": 3
   },
   "file_extension": ".py",
   "mimetype": "text/x-python",
   "name": "python",
   "nbconvert_exporter": "python",
   "pygments_lexer": "ipython3",
   "version": "3.12.0"
  }
 },
 "nbformat": 4,
 "nbformat_minor": 2
}
